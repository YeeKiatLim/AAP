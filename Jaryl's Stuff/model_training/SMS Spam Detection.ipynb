{
 "cells": [
  {
   "cell_type": "markdown",
   "id": "6c1e938c-7189-4a19-9f02-b70aca0c530c",
   "metadata": {
    "id": "6c1e938c-7189-4a19-9f02-b70aca0c530c"
   },
   "source": [
    "# Import Libraries"
   ]
  },
  {
   "cell_type": "code",
   "execution_count": 3,
   "id": "8fa911c6-640c-4444-9f56-9a49675b4cd5",
   "metadata": {
    "id": "8fa911c6-640c-4444-9f56-9a49675b4cd5",
    "tags": []
   },
   "outputs": [],
   "source": [
    "import numpy as np\n",
    "import pandas as pd\n",
    "import matplotlib.pyplot as plt\n",
    "from collections import Counter\n",
    "from sklearn import feature_extraction, model_selection, naive_bayes, metrics, svm\n",
    "from IPython.display import Image\n",
    "import warnings\n",
    "warnings.filterwarnings(\"ignore\")\n",
    "%matplotlib inline"
   ]
  },
  {
   "cell_type": "markdown",
   "id": "cf80217f-41f9-4ee2-a122-761910236028",
   "metadata": {
    "id": "cf80217f-41f9-4ee2-a122-761910236028"
   },
   "source": [
    "# Data Preparation"
   ]
  },
  {
   "cell_type": "code",
   "execution_count": 5,
   "id": "6cdedc06-a829-4610-9625-7fa8cd0d158e",
   "metadata": {
    "colab": {
     "base_uri": "https://localhost:8080/",
     "height": 363
    },
    "id": "6cdedc06-a829-4610-9625-7fa8cd0d158e",
    "outputId": "3996e854-8601-481a-d45b-367363283313",
    "tags": []
   },
   "outputs": [
    {
     "data": {
      "text/html": [
       "<div>\n",
       "<style scoped>\n",
       "    .dataframe tbody tr th:only-of-type {\n",
       "        vertical-align: middle;\n",
       "    }\n",
       "\n",
       "    .dataframe tbody tr th {\n",
       "        vertical-align: top;\n",
       "    }\n",
       "\n",
       "    .dataframe thead th {\n",
       "        text-align: right;\n",
       "    }\n",
       "</style>\n",
       "<table border=\"1\" class=\"dataframe\">\n",
       "  <thead>\n",
       "    <tr style=\"text-align: right;\">\n",
       "      <th></th>\n",
       "      <th>v1</th>\n",
       "      <th>v2</th>\n",
       "      <th>Unnamed: 2</th>\n",
       "      <th>Unnamed: 3</th>\n",
       "      <th>Unnamed: 4</th>\n",
       "    </tr>\n",
       "  </thead>\n",
       "  <tbody>\n",
       "    <tr>\n",
       "      <th>0</th>\n",
       "      <td>ham</td>\n",
       "      <td>Go until jurong point, crazy.. Available only ...</td>\n",
       "      <td>NaN</td>\n",
       "      <td>NaN</td>\n",
       "      <td>NaN</td>\n",
       "    </tr>\n",
       "    <tr>\n",
       "      <th>1</th>\n",
       "      <td>ham</td>\n",
       "      <td>Ok lar... Joking wif u oni...</td>\n",
       "      <td>NaN</td>\n",
       "      <td>NaN</td>\n",
       "      <td>NaN</td>\n",
       "    </tr>\n",
       "    <tr>\n",
       "      <th>2</th>\n",
       "      <td>spam</td>\n",
       "      <td>Free entry in 2 a wkly comp to win FA Cup fina...</td>\n",
       "      <td>NaN</td>\n",
       "      <td>NaN</td>\n",
       "      <td>NaN</td>\n",
       "    </tr>\n",
       "    <tr>\n",
       "      <th>3</th>\n",
       "      <td>ham</td>\n",
       "      <td>U dun say so early hor... U c already then say...</td>\n",
       "      <td>NaN</td>\n",
       "      <td>NaN</td>\n",
       "      <td>NaN</td>\n",
       "    </tr>\n",
       "    <tr>\n",
       "      <th>4</th>\n",
       "      <td>ham</td>\n",
       "      <td>Nah I don't think he goes to usf, he lives aro...</td>\n",
       "      <td>NaN</td>\n",
       "      <td>NaN</td>\n",
       "      <td>NaN</td>\n",
       "    </tr>\n",
       "    <tr>\n",
       "      <th>5</th>\n",
       "      <td>spam</td>\n",
       "      <td>FreeMsg Hey there darling it's been 3 week's n...</td>\n",
       "      <td>NaN</td>\n",
       "      <td>NaN</td>\n",
       "      <td>NaN</td>\n",
       "    </tr>\n",
       "    <tr>\n",
       "      <th>6</th>\n",
       "      <td>ham</td>\n",
       "      <td>Even my brother is not like to speak with me. ...</td>\n",
       "      <td>NaN</td>\n",
       "      <td>NaN</td>\n",
       "      <td>NaN</td>\n",
       "    </tr>\n",
       "    <tr>\n",
       "      <th>7</th>\n",
       "      <td>ham</td>\n",
       "      <td>As per your request 'Melle Melle (Oru Minnamin...</td>\n",
       "      <td>NaN</td>\n",
       "      <td>NaN</td>\n",
       "      <td>NaN</td>\n",
       "    </tr>\n",
       "    <tr>\n",
       "      <th>8</th>\n",
       "      <td>spam</td>\n",
       "      <td>WINNER!! As a valued network customer you have...</td>\n",
       "      <td>NaN</td>\n",
       "      <td>NaN</td>\n",
       "      <td>NaN</td>\n",
       "    </tr>\n",
       "    <tr>\n",
       "      <th>9</th>\n",
       "      <td>spam</td>\n",
       "      <td>Had your mobile 11 months or more? U R entitle...</td>\n",
       "      <td>NaN</td>\n",
       "      <td>NaN</td>\n",
       "      <td>NaN</td>\n",
       "    </tr>\n",
       "  </tbody>\n",
       "</table>\n",
       "</div>"
      ],
      "text/plain": [
       "     v1                                                 v2 Unnamed: 2  \\\n",
       "0   ham  Go until jurong point, crazy.. Available only ...        NaN   \n",
       "1   ham                      Ok lar... Joking wif u oni...        NaN   \n",
       "2  spam  Free entry in 2 a wkly comp to win FA Cup fina...        NaN   \n",
       "3   ham  U dun say so early hor... U c already then say...        NaN   \n",
       "4   ham  Nah I don't think he goes to usf, he lives aro...        NaN   \n",
       "5  spam  FreeMsg Hey there darling it's been 3 week's n...        NaN   \n",
       "6   ham  Even my brother is not like to speak with me. ...        NaN   \n",
       "7   ham  As per your request 'Melle Melle (Oru Minnamin...        NaN   \n",
       "8  spam  WINNER!! As a valued network customer you have...        NaN   \n",
       "9  spam  Had your mobile 11 months or more? U R entitle...        NaN   \n",
       "\n",
       "  Unnamed: 3 Unnamed: 4  \n",
       "0        NaN        NaN  \n",
       "1        NaN        NaN  \n",
       "2        NaN        NaN  \n",
       "3        NaN        NaN  \n",
       "4        NaN        NaN  \n",
       "5        NaN        NaN  \n",
       "6        NaN        NaN  \n",
       "7        NaN        NaN  \n",
       "8        NaN        NaN  \n",
       "9        NaN        NaN  "
      ]
     },
     "execution_count": 5,
     "metadata": {},
     "output_type": "execute_result"
    }
   ],
   "source": [
    "data = pd.read_csv('spam.csv', encoding='latin-1')\n",
    "data.head(n=10)"
   ]
  },
  {
   "cell_type": "markdown",
   "id": "_geABf8gSj7m",
   "metadata": {
    "id": "_geABf8gSj7m"
   },
   "source": [
    "## Data Cleaning"
   ]
  },
  {
   "cell_type": "code",
   "execution_count": 7,
   "id": "32625094-599c-4049-8553-e5d982c8a1e8",
   "metadata": {
    "colab": {
     "base_uri": "https://localhost:8080/",
     "height": 206
    },
    "id": "32625094-599c-4049-8553-e5d982c8a1e8",
    "outputId": "f4934cbb-26a6-4998-baed-8ef53168201d",
    "tags": []
   },
   "outputs": [
    {
     "data": {
      "text/html": [
       "<div>\n",
       "<style scoped>\n",
       "    .dataframe tbody tr th:only-of-type {\n",
       "        vertical-align: middle;\n",
       "    }\n",
       "\n",
       "    .dataframe tbody tr th {\n",
       "        vertical-align: top;\n",
       "    }\n",
       "\n",
       "    .dataframe thead th {\n",
       "        text-align: right;\n",
       "    }\n",
       "</style>\n",
       "<table border=\"1\" class=\"dataframe\">\n",
       "  <thead>\n",
       "    <tr style=\"text-align: right;\">\n",
       "      <th></th>\n",
       "      <th>Target</th>\n",
       "      <th>Text</th>\n",
       "    </tr>\n",
       "  </thead>\n",
       "  <tbody>\n",
       "    <tr>\n",
       "      <th>0</th>\n",
       "      <td>ham</td>\n",
       "      <td>Go until jurong point, crazy.. Available only ...</td>\n",
       "    </tr>\n",
       "    <tr>\n",
       "      <th>1</th>\n",
       "      <td>ham</td>\n",
       "      <td>Ok lar... Joking wif u oni...</td>\n",
       "    </tr>\n",
       "    <tr>\n",
       "      <th>2</th>\n",
       "      <td>spam</td>\n",
       "      <td>Free entry in 2 a wkly comp to win FA Cup fina...</td>\n",
       "    </tr>\n",
       "    <tr>\n",
       "      <th>3</th>\n",
       "      <td>ham</td>\n",
       "      <td>U dun say so early hor... U c already then say...</td>\n",
       "    </tr>\n",
       "    <tr>\n",
       "      <th>4</th>\n",
       "      <td>ham</td>\n",
       "      <td>Nah I don't think he goes to usf, he lives aro...</td>\n",
       "    </tr>\n",
       "  </tbody>\n",
       "</table>\n",
       "</div>"
      ],
      "text/plain": [
       "  Target                                               Text\n",
       "0    ham  Go until jurong point, crazy.. Available only ...\n",
       "1    ham                      Ok lar... Joking wif u oni...\n",
       "2   spam  Free entry in 2 a wkly comp to win FA Cup fina...\n",
       "3    ham  U dun say so early hor... U c already then say...\n",
       "4    ham  Nah I don't think he goes to usf, he lives aro..."
      ]
     },
     "execution_count": 7,
     "metadata": {},
     "output_type": "execute_result"
    }
   ],
   "source": [
    "# Drop redundent columns\n",
    "to_drop = [\"Unnamed: 2\",\"Unnamed: 3\",\"Unnamed: 4\"]\n",
    "data = data.drop(data[to_drop], axis=1)\n",
    "# Rename columns\n",
    "data.rename(columns = {\"v1\":\"Target\", \"v2\":\"Text\"}, inplace = True)\n",
    "data.head()"
   ]
  },
  {
   "cell_type": "markdown",
   "id": "bVEeN1fZSxTW",
   "metadata": {
    "id": "bVEeN1fZSxTW"
   },
   "source": [
    "## Data Exploration"
   ]
  },
  {
   "cell_type": "markdown",
   "id": "becfbd3d-1090-477c-9813-de436472aebb",
   "metadata": {
    "id": "becfbd3d-1090-477c-9813-de436472aebb"
   },
   "source": [
    "### No. of Ham vs Spam in data"
   ]
  },
  {
   "cell_type": "code",
   "execution_count": 13,
   "id": "d176ec1c-9121-453d-b7c4-61eb80ce0de0",
   "metadata": {
    "colab": {
     "base_uri": "https://localhost:8080/",
     "height": 496
    },
    "id": "d176ec1c-9121-453d-b7c4-61eb80ce0de0",
    "outputId": "d702d78f-ca82-4362-a31b-11d6c2511096",
    "tags": []
   },
   "outputs": [
    {
     "data": {
      "image/png": "[encoded data removed]",
      "text/plain": [
       "<Figure size 640x480 with 1 Axes>"
      ]
     },
     "metadata": {},
     "output_type": "display_data"
    }
   ],
   "source": [
    "count_Class=pd.value_counts(data[\"Target\"], sort= True)\n",
    "count_Class.plot(kind = 'bar',color = [\"pink\",\"blue\"])\n",
    "plt.title('Bar Plot')\n",
    "plt.show();"
   ]
  },
  {
   "cell_type": "markdown",
   "id": "170ac147-8cd5-4d70-9426-73da3e88f185",
   "metadata": {
    "id": "170ac147-8cd5-4d70-9426-73da3e88f185"
   },
   "source": [
    "### Analyse the Text"
   ]
  },
  {
   "cell_type": "code",
   "execution_count": 16,
   "id": "5732184e-21d2-4b58-b4b3-860a46121d11",
   "metadata": {
    "id": "5732184e-21d2-4b58-b4b3-860a46121d11",
    "tags": []
   },
   "outputs": [],
   "source": [
    "count1 = Counter(\" \".join(data[data['Target']=='ham'][\"Text\"]).split()).most_common(20)\n",
    "df1 = pd.DataFrame.from_dict(count1)\n",
    "df1 = df1.rename(columns={0: \"words in non-spam\", 1 : \"count\"})\n",
    "count2 = Counter(\" \".join(data[data['Target']=='spam'][\"Text\"]).split()).most_common(20)\n",
    "df2 = pd.DataFrame.from_dict(count2)\n",
    "df2 = df2.rename(columns={0: \"words in spam\", 1 : \"count_\"})"
   ]
  },
  {
   "cell_type": "code",
   "execution_count": 18,
   "id": "7b425ae0-bf45-420f-b971-dcf0170e6550",
   "metadata": {
    "colab": {
     "base_uri": "https://localhost:8080/",
     "height": 492
    },
    "id": "7b425ae0-bf45-420f-b971-dcf0170e6550",
    "outputId": "dcd0c342-477f-40b3-d4ea-283e9c1c45b4",
    "tags": []
   },
   "outputs": [
    {
     "data": {
      "image/png": "[encoded data removed]",
      "text/plain": [
       "<Figure size 640x480 with 1 Axes>"
      ]
     },
     "metadata": {},
     "output_type": "display_data"
    }
   ],
   "source": [
    "# @title\n",
    "df1.plot.bar(legend = False, color = 'pink' )\n",
    "y_pos = np.arange(len(df1[\"words in non-spam\"]))\n",
    "plt.xticks(y_pos, df1[\"words in non-spam\"])\n",
    "plt.title('More frequent words in Ham messages')\n",
    "plt.xlabel('words')\n",
    "plt.ylabel('number')\n",
    "plt.show()"
   ]
  },
  {
   "cell_type": "code",
   "execution_count": 20,
   "id": "7f0247db-c2e5-4076-9136-764f5f57718f",
   "metadata": {
    "colab": {
     "base_uri": "https://localhost:8080/",
     "height": 492
    },
    "id": "7f0247db-c2e5-4076-9136-764f5f57718f",
    "outputId": "17756e26-8b44-4603-ad53-d1f424f3185c",
    "tags": []
   },
   "outputs": [
    {
     "data": {
      "image/png": "[encoded data removed]",
      "text/plain": [
       "<Figure size 640x480 with 1 Axes>"
      ]
     },
     "metadata": {},
     "output_type": "display_data"
    }
   ],
   "source": [
    "df2.plot.bar(legend = False, color = 'blue')\n",
    "y_pos = np.arange(len(df2[\"words in spam\"]))\n",
    "plt.xticks(y_pos, df2[\"words in spam\"])\n",
    "plt.title('More frequent words in Spam messages')\n",
    "plt.xlabel('words')\n",
    "plt.ylabel('number')\n",
    "plt.show()"
   ]
  },
  {
   "cell_type": "markdown",
   "id": "78760f57-17d8-4bd0-9996-1b43ec148473",
   "metadata": {
    "id": "78760f57-17d8-4bd0-9996-1b43ec148473"
   },
   "source": [
    "## Data Preprocessing"
   ]
  },
  {
   "cell_type": "markdown",
   "id": "d9d26397-379b-40d0-961c-de596535ac0e",
   "metadata": {
    "id": "d9d26397-379b-40d0-961c-de596535ac0e"
   },
   "source": [
    "### Remove Stop Words & Vectorize"
   ]
  },
  {
   "cell_type": "code",
   "execution_count": 24,
   "id": "d3b2e965-3141-43f3-ba90-5228085c3c5f",
   "metadata": {
    "colab": {
     "base_uri": "https://localhost:8080/"
    },
    "id": "d3b2e965-3141-43f3-ba90-5228085c3c5f",
    "outputId": "3d0c4a9a-d1f0-4dc6-9565-c3af6e253ab1",
    "tags": []
   },
   "outputs": [
    {
     "data": {
      "text/plain": [
       "(5572, 8404)"
      ]
     },
     "execution_count": 24,
     "metadata": {},
     "output_type": "execute_result"
    }
   ],
   "source": [
    "f = feature_extraction.text.TfidfVectorizer(stop_words = 'english')\n",
    "X = f.fit_transform(data[\"Text\"])\n",
    "np.shape(X)"
   ]
  },
  {
   "cell_type": "code",
   "execution_count": 26,
   "id": "be23686a-6b3d-47dc-a91c-a410f1417a2a",
   "metadata": {
    "tags": []
   },
   "outputs": [
    {
     "data": {
      "text/plain": [
       "['vectorizer.joblib']"
      ]
     },
     "execution_count": 26,
     "metadata": {},
     "output_type": "execute_result"
    }
   ],
   "source": [
    "from joblib import dump, load\n",
    "dump(f, 'vectorizer.joblib')"
   ]
  },
  {
   "cell_type": "markdown",
   "id": "7a319cfa-06c2-48ab-84b4-15eec5677fd5",
   "metadata": {
    "id": "7a319cfa-06c2-48ab-84b4-15eec5677fd5"
   },
   "source": [
    "### Encode Labels\n"
   ]
  },
  {
   "cell_type": "code",
   "execution_count": 41,
   "id": "47b8b50c-e02b-42c3-99be-82d81465c76e",
   "metadata": {
    "id": "47b8b50c-e02b-42c3-99be-82d81465c76e",
    "tags": []
   },
   "outputs": [],
   "source": [
    "data[\"Target\"]=data[\"Target\"].map({'spam':1,'ham':0})"
   ]
  },
  {
   "cell_type": "markdown",
   "id": "kkFGBHw5TUKD",
   "metadata": {
    "id": "kkFGBHw5TUKD"
   },
   "source": [
    "# Model Training"
   ]
  },
  {
   "cell_type": "markdown",
   "id": "2IV6G6tbTDfM",
   "metadata": {
    "id": "2IV6G6tbTDfM"
   },
   "source": [
    "### Split data into training and testing sets"
   ]
  },
  {
   "cell_type": "code",
   "execution_count": 45,
   "id": "AIi00gWvSG7P",
   "metadata": {
    "colab": {
     "base_uri": "https://localhost:8080/"
    },
    "id": "AIi00gWvSG7P",
    "outputId": "fce5186d-2321-49ef-b87b-c96a23ca0d1e",
    "tags": []
   },
   "outputs": [
    {
     "name": "stdout",
     "output_type": "stream",
     "text": [
      "[(3733, 8404), (1839, 8404)]\n"
     ]
    }
   ],
   "source": [
    "X_train, X_test, y_train, y_test = model_selection.train_test_split(X, data['Target'], test_size=0.33, random_state=42)\n",
    "print([np.shape(X_train), np.shape(X_test)])"
   ]
  },
  {
   "cell_type": "markdown",
   "id": "3de1831c-94f3-4796-b0e7-43dc230caaf5",
   "metadata": {
    "id": "3de1831c-94f3-4796-b0e7-43dc230caaf5"
   },
   "source": [
    "## Hyperparameter Tuning with selected algorithm (Multinomial naive bayes classifier)"
   ]
  },
  {
   "cell_type": "code",
   "execution_count": 48,
   "id": "0a678e79-0d83-4970-ba19-d896a854c553",
   "metadata": {
    "id": "0a678e79-0d83-4970-ba19-d896a854c553",
    "tags": []
   },
   "outputs": [],
   "source": [
    "list_alpha = np.arange(1/100000, 20, 0.11)\n",
    "score_train = np.zeros(len(list_alpha))\n",
    "score_test = np.zeros(len(list_alpha))\n",
    "recall_test = np.zeros(len(list_alpha))\n",
    "precision_test= np.zeros(len(list_alpha))\n",
    "count = 0\n",
    "for alpha in list_alpha:\n",
    "    bayes = naive_bayes.MultinomialNB(alpha=alpha)\n",
    "    bayes.fit(X_train, y_train)\n",
    "    score_train[count] = bayes.score(X_train, y_train)\n",
    "    score_test[count]= bayes.score(X_test, y_test)\n",
    "    recall_test[count] = metrics.recall_score(y_test, bayes.predict(X_test))\n",
    "    precision_test[count] = metrics.precision_score(y_test, bayes.predict(X_test))\n",
    "    count = count + 1"
   ]
  },
  {
   "cell_type": "code",
   "execution_count": 49,
   "id": "ee678984-3b0f-44fb-a8c1-cdb3e3ddbe6c",
   "metadata": {
    "colab": {
     "base_uri": "https://localhost:8080/",
     "height": 363
    },
    "id": "ee678984-3b0f-44fb-a8c1-cdb3e3ddbe6c",
    "outputId": "20fedc57-f79f-446f-b2e4-d816e15d1451",
    "tags": []
   },
   "outputs": [
    {
     "data": {
      "text/html": [
       "<div>\n",
       "<style scoped>\n",
       "    .dataframe tbody tr th:only-of-type {\n",
       "        vertical-align: middle;\n",
       "    }\n",
       "\n",
       "    .dataframe tbody tr th {\n",
       "        vertical-align: top;\n",
       "    }\n",
       "\n",
       "    .dataframe thead th {\n",
       "        text-align: right;\n",
       "    }\n",
       "</style>\n",
       "<table border=\"1\" class=\"dataframe\">\n",
       "  <thead>\n",
       "    <tr style=\"text-align: right;\">\n",
       "      <th></th>\n",
       "      <th>alpha</th>\n",
       "      <th>Train Accuracy</th>\n",
       "      <th>Test Accuracy</th>\n",
       "      <th>Test Recall</th>\n",
       "      <th>Test Precision</th>\n",
       "    </tr>\n",
       "  </thead>\n",
       "  <tbody>\n",
       "    <tr>\n",
       "      <th>0</th>\n",
       "      <td>0.00001</td>\n",
       "      <td>1.000000</td>\n",
       "      <td>0.973355</td>\n",
       "      <td>0.912698</td>\n",
       "      <td>0.894942</td>\n",
       "    </tr>\n",
       "    <tr>\n",
       "      <th>1</th>\n",
       "      <td>0.11001</td>\n",
       "      <td>0.998661</td>\n",
       "      <td>0.978249</td>\n",
       "      <td>0.920635</td>\n",
       "      <td>0.920635</td>\n",
       "    </tr>\n",
       "    <tr>\n",
       "      <th>2</th>\n",
       "      <td>0.22001</td>\n",
       "      <td>0.997589</td>\n",
       "      <td>0.981512</td>\n",
       "      <td>0.900794</td>\n",
       "      <td>0.961864</td>\n",
       "    </tr>\n",
       "    <tr>\n",
       "      <th>3</th>\n",
       "      <td>0.33001</td>\n",
       "      <td>0.994910</td>\n",
       "      <td>0.981512</td>\n",
       "      <td>0.888889</td>\n",
       "      <td>0.973913</td>\n",
       "    </tr>\n",
       "    <tr>\n",
       "      <th>4</th>\n",
       "      <td>0.44001</td>\n",
       "      <td>0.993571</td>\n",
       "      <td>0.978793</td>\n",
       "      <td>0.857143</td>\n",
       "      <td>0.986301</td>\n",
       "    </tr>\n",
       "    <tr>\n",
       "      <th>5</th>\n",
       "      <td>0.55001</td>\n",
       "      <td>0.992231</td>\n",
       "      <td>0.976074</td>\n",
       "      <td>0.829365</td>\n",
       "      <td>0.995238</td>\n",
       "    </tr>\n",
       "    <tr>\n",
       "      <th>6</th>\n",
       "      <td>0.66001</td>\n",
       "      <td>0.989821</td>\n",
       "      <td>0.976074</td>\n",
       "      <td>0.825397</td>\n",
       "      <td>1.000000</td>\n",
       "    </tr>\n",
       "    <tr>\n",
       "      <th>7</th>\n",
       "      <td>0.77001</td>\n",
       "      <td>0.985534</td>\n",
       "      <td>0.973355</td>\n",
       "      <td>0.805556</td>\n",
       "      <td>1.000000</td>\n",
       "    </tr>\n",
       "    <tr>\n",
       "      <th>8</th>\n",
       "      <td>0.88001</td>\n",
       "      <td>0.981248</td>\n",
       "      <td>0.968461</td>\n",
       "      <td>0.769841</td>\n",
       "      <td>1.000000</td>\n",
       "    </tr>\n",
       "    <tr>\n",
       "      <th>9</th>\n",
       "      <td>0.99001</td>\n",
       "      <td>0.978034</td>\n",
       "      <td>0.965742</td>\n",
       "      <td>0.750000</td>\n",
       "      <td>1.000000</td>\n",
       "    </tr>\n",
       "  </tbody>\n",
       "</table>\n",
       "</div>"
      ],
      "text/plain": [
       "     alpha  Train Accuracy  Test Accuracy  Test Recall  Test Precision\n",
       "0  0.00001        1.000000       0.973355     0.912698        0.894942\n",
       "1  0.11001        0.998661       0.978249     0.920635        0.920635\n",
       "2  0.22001        0.997589       0.981512     0.900794        0.961864\n",
       "3  0.33001        0.994910       0.981512     0.888889        0.973913\n",
       "4  0.44001        0.993571       0.978793     0.857143        0.986301\n",
       "5  0.55001        0.992231       0.976074     0.829365        0.995238\n",
       "6  0.66001        0.989821       0.976074     0.825397        1.000000\n",
       "7  0.77001        0.985534       0.973355     0.805556        1.000000\n",
       "8  0.88001        0.981248       0.968461     0.769841        1.000000\n",
       "9  0.99001        0.978034       0.965742     0.750000        1.000000"
      ]
     },
     "execution_count": 49,
     "metadata": {},
     "output_type": "execute_result"
    }
   ],
   "source": [
    "matrix = np.matrix(np.c_[list_alpha, score_train, score_test, recall_test, precision_test])\n",
    "models = pd.DataFrame(data = matrix, columns =\n",
    "             ['alpha', 'Train Accuracy', 'Test Accuracy', 'Test Recall', 'Test Precision'])\n",
    "models.head(n=10)"
   ]
  },
  {
   "cell_type": "markdown",
   "id": "rkHOhw6Zb-GZ",
   "metadata": {
    "id": "rkHOhw6Zb-GZ"
   },
   "source": [
    "# Model Evaluation"
   ]
  },
  {
   "cell_type": "markdown",
   "id": "192d2800-28bb-4a8d-a628-84d8619abe7e",
   "metadata": {
    "id": "192d2800-28bb-4a8d-a628-84d8619abe7e"
   },
   "source": [
    "### Select the most precise model"
   ]
  },
  {
   "cell_type": "code",
   "execution_count": 54,
   "id": "a412eae1-6fd9-4e3c-a46a-f3e50b79963c",
   "metadata": {
    "id": "a412eae1-6fd9-4e3c-a46a-f3e50b79963c",
    "tags": []
   },
   "outputs": [],
   "source": [
    "best_index = models['Test Precision'].idxmax()"
   ]
  },
  {
   "cell_type": "code",
   "execution_count": 56,
   "id": "c4d54ec8-40d8-41ca-bdfb-900b45da065c",
   "metadata": {
    "colab": {
     "base_uri": "https://localhost:8080/"
    },
    "id": "c4d54ec8-40d8-41ca-bdfb-900b45da065c",
    "outputId": "54f20ac8-2a33-497c-c588-3c98d82272f9",
    "tags": []
   },
   "outputs": [
    {
     "data": {
      "text/plain": [
       "alpha             0.660010\n",
       "Train Accuracy    0.989821\n",
       "Test Accuracy     0.976074\n",
       "Test Recall       0.825397\n",
       "Test Precision    1.000000\n",
       "Name: 6, dtype: float64"
      ]
     },
     "execution_count": 56,
     "metadata": {},
     "output_type": "execute_result"
    }
   ],
   "source": [
    "models.iloc[best_index, :]"
   ]
  },
  {
   "cell_type": "markdown",
   "id": "vbRPJq3vcSGo",
   "metadata": {
    "id": "vbRPJq3vcSGo"
   },
   "source": [
    "### Select the most accurate model of the most precise models"
   ]
  },
  {
   "cell_type": "code",
   "execution_count": 59,
   "id": "65304d05-fad2-435e-820c-ba165179c04e",
   "metadata": {
    "colab": {
     "base_uri": "https://localhost:8080/",
     "height": 206
    },
    "id": "65304d05-fad2-435e-820c-ba165179c04e",
    "outputId": "cc8b2b14-2e62-4051-abe8-be2ed8818a80",
    "tags": []
   },
   "outputs": [
    {
     "data": {
      "text/html": [
       "<div>\n",
       "<style scoped>\n",
       "    .dataframe tbody tr th:only-of-type {\n",
       "        vertical-align: middle;\n",
       "    }\n",
       "\n",
       "    .dataframe tbody tr th {\n",
       "        vertical-align: top;\n",
       "    }\n",
       "\n",
       "    .dataframe thead th {\n",
       "        text-align: right;\n",
       "    }\n",
       "</style>\n",
       "<table border=\"1\" class=\"dataframe\">\n",
       "  <thead>\n",
       "    <tr style=\"text-align: right;\">\n",
       "      <th></th>\n",
       "      <th>alpha</th>\n",
       "      <th>Train Accuracy</th>\n",
       "      <th>Test Accuracy</th>\n",
       "      <th>Test Recall</th>\n",
       "      <th>Test Precision</th>\n",
       "    </tr>\n",
       "  </thead>\n",
       "  <tbody>\n",
       "    <tr>\n",
       "      <th>6</th>\n",
       "      <td>0.66001</td>\n",
       "      <td>0.989821</td>\n",
       "      <td>0.976074</td>\n",
       "      <td>0.825397</td>\n",
       "      <td>1.0</td>\n",
       "    </tr>\n",
       "    <tr>\n",
       "      <th>7</th>\n",
       "      <td>0.77001</td>\n",
       "      <td>0.985534</td>\n",
       "      <td>0.973355</td>\n",
       "      <td>0.805556</td>\n",
       "      <td>1.0</td>\n",
       "    </tr>\n",
       "    <tr>\n",
       "      <th>8</th>\n",
       "      <td>0.88001</td>\n",
       "      <td>0.981248</td>\n",
       "      <td>0.968461</td>\n",
       "      <td>0.769841</td>\n",
       "      <td>1.0</td>\n",
       "    </tr>\n",
       "    <tr>\n",
       "      <th>9</th>\n",
       "      <td>0.99001</td>\n",
       "      <td>0.978034</td>\n",
       "      <td>0.965742</td>\n",
       "      <td>0.750000</td>\n",
       "      <td>1.0</td>\n",
       "    </tr>\n",
       "    <tr>\n",
       "      <th>10</th>\n",
       "      <td>1.10001</td>\n",
       "      <td>0.975355</td>\n",
       "      <td>0.963567</td>\n",
       "      <td>0.734127</td>\n",
       "      <td>1.0</td>\n",
       "    </tr>\n",
       "  </tbody>\n",
       "</table>\n",
       "</div>"
      ],
      "text/plain": [
       "      alpha  Train Accuracy  Test Accuracy  Test Recall  Test Precision\n",
       "6   0.66001        0.989821       0.976074     0.825397             1.0\n",
       "7   0.77001        0.985534       0.973355     0.805556             1.0\n",
       "8   0.88001        0.981248       0.968461     0.769841             1.0\n",
       "9   0.99001        0.978034       0.965742     0.750000             1.0\n",
       "10  1.10001        0.975355       0.963567     0.734127             1.0"
      ]
     },
     "execution_count": 59,
     "metadata": {},
     "output_type": "execute_result"
    }
   ],
   "source": [
    "models[models['Test Precision']==1].head(n=5)"
   ]
  },
  {
   "cell_type": "code",
   "execution_count": 61,
   "id": "4ddcc72c-7d4a-4dc4-9ff0-cb1391425262",
   "metadata": {
    "colab": {
     "base_uri": "https://localhost:8080/"
    },
    "id": "4ddcc72c-7d4a-4dc4-9ff0-cb1391425262",
    "outputId": "675e9d36-c5c9-4660-f4e5-9f4f147f9a43",
    "tags": []
   },
   "outputs": [
    {
     "data": {
      "text/plain": [
       "alpha             0.660010\n",
       "Train Accuracy    0.989821\n",
       "Test Accuracy     0.976074\n",
       "Test Recall       0.825397\n",
       "Test Precision    1.000000\n",
       "Name: 6, dtype: float64"
      ]
     },
     "execution_count": 61,
     "metadata": {},
     "output_type": "execute_result"
    }
   ],
   "source": [
    "best_index = models[models['Test Precision']==1]['Test Accuracy'].idxmax()\n",
    "bayes = naive_bayes.MultinomialNB(alpha=list_alpha[best_index])\n",
    "bayes.fit(X_train, y_train)\n",
    "models.iloc[best_index, :]"
   ]
  },
  {
   "cell_type": "markdown",
   "id": "kfswlYvLcEtU",
   "metadata": {
    "id": "kfswlYvLcEtU"
   },
   "source": [
    "### Confusion Matrix"
   ]
  },
  {
   "cell_type": "code",
   "execution_count": 64,
   "id": "cebf53fb-89c4-4f22-9a56-2ae8937ab312",
   "metadata": {
    "colab": {
     "base_uri": "https://localhost:8080/",
     "height": 112
    },
    "id": "cebf53fb-89c4-4f22-9a56-2ae8937ab312",
    "outputId": "6046c32e-e79b-40e2-9ac6-ba586ebfb758",
    "tags": []
   },
   "outputs": [
    {
     "data": {
      "text/html": [
       "<div>\n",
       "<style scoped>\n",
       "    .dataframe tbody tr th:only-of-type {\n",
       "        vertical-align: middle;\n",
       "    }\n",
       "\n",
       "    .dataframe tbody tr th {\n",
       "        vertical-align: top;\n",
       "    }\n",
       "\n",
       "    .dataframe thead th {\n",
       "        text-align: right;\n",
       "    }\n",
       "</style>\n",
       "<table border=\"1\" class=\"dataframe\">\n",
       "  <thead>\n",
       "    <tr style=\"text-align: right;\">\n",
       "      <th></th>\n",
       "      <th>Predicted 0</th>\n",
       "      <th>Predicted 1</th>\n",
       "    </tr>\n",
       "  </thead>\n",
       "  <tbody>\n",
       "    <tr>\n",
       "      <th>Actual 0</th>\n",
       "      <td>1587</td>\n",
       "      <td>0</td>\n",
       "    </tr>\n",
       "    <tr>\n",
       "      <th>Actual 1</th>\n",
       "      <td>44</td>\n",
       "      <td>208</td>\n",
       "    </tr>\n",
       "  </tbody>\n",
       "</table>\n",
       "</div>"
      ],
      "text/plain": [
       "          Predicted 0  Predicted 1\n",
       "Actual 0         1587            0\n",
       "Actual 1           44          208"
      ]
     },
     "execution_count": 64,
     "metadata": {},
     "output_type": "execute_result"
    }
   ],
   "source": [
    "m_confusion_test = metrics.confusion_matrix(y_test, bayes.predict(X_test))\n",
    "pd.DataFrame(data = m_confusion_test, columns = ['Predicted 0', 'Predicted 1'],\n",
    "            index = ['Actual 0', 'Actual 1'])"
   ]
  },
  {
   "cell_type": "markdown",
   "id": "6c2c1c6e-41b5-4010-9e20-16508871389b",
   "metadata": {
    "id": "6c2c1c6e-41b5-4010-9e20-16508871389b"
   },
   "source": [
    "### Finalise Model"
   ]
  },
  {
   "cell_type": "code",
   "execution_count": 67,
   "id": "c90f349b-9fbd-4577-9078-bf9eac2a9aee",
   "metadata": {
    "id": "c90f349b-9fbd-4577-9078-bf9eac2a9aee",
    "tags": []
   },
   "outputs": [
    {
     "data": {
      "text/plain": [
       "['smsmodel.joblib']"
      ]
     },
     "execution_count": 67,
     "metadata": {},
     "output_type": "execute_result"
    }
   ],
   "source": [
    "dump(bayes, 'smsmodel.joblib')"
   ]
  }
 ],
 "metadata": {
  "colab": {
   "provenance": []
  },
  "kernelspec": {
   "display_name": "Python 3 (ipykernel)",
   "language": "python",
   "name": "python3"
  },
  "language_info": {
   "codemirror_mode": {
    "name": "ipython",
    "version": 3
   },
   "file_extension": ".py",
   "mimetype": "text/x-python",
   "name": "python",
   "nbconvert_exporter": "python",
   "pygments_lexer": "ipython3",
   "version": "3.11.7"
  }
 },
 "nbformat": 4,
 "nbformat_minor": 5
}
